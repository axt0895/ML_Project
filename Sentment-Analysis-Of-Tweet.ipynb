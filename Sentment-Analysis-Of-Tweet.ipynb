{
 "cells": [
  {
   "cell_type": "code",
   "execution_count": 1,
   "id": "1a1a5715",
   "metadata": {},
   "outputs": [],
   "source": [
    "%matplotlib inline\n",
    "import string\n",
    "import re\n",
    "import numpy as np\n",
    "import pandas as pd\n",
    "import matplotlib.pyplot as plt\n",
    "\n",
    "from pandas import Series, DataFrame\n",
    "from sklearn.preprocessing import StandardScaler, OneHotEncoder\n",
    "from sklearn.feature_extraction.text import CountVectorizer, TfidfVectorizer\n",
    "from sklearn.model_selection import train_test_split\n",
    "from imblearn.over_sampling import RandomOverSampler\n",
    "from sklearn.naive_bayes import GaussianNB\n",
    "from sklearn.metrics import accuracy_score, confusion_matrix, classification_report, ConfusionMatrixDisplay"
   ]
  },
  {
   "cell_type": "markdown",
   "id": "079d1345",
   "metadata": {},
   "source": [
    "#### The records could not be decoded using UTF-8, UTF-16, or UTF-32 encoding schemes. They were successfully decoded using ISO-8859-16 (Latin-10), which is an extended version of Latin-1. ISO-8859-16 covers a set of characters used in European languages and other regions.\n"
   ]
  },
  {
   "cell_type": "code",
   "execution_count": 2,
   "id": "f66297ab",
   "metadata": {},
   "outputs": [],
   "source": [
    "df = pd.read_csv('/Users/anilthapa/ML_Project/data/tweet.csv', encoding='ISO-8859-16')"
   ]
  },
  {
   "cell_type": "code",
   "execution_count": 3,
   "id": "a00d0a65",
   "metadata": {},
   "outputs": [
    {
     "data": {
      "text/plain": [
       "(9093, 3)"
      ]
     },
     "execution_count": 3,
     "metadata": {},
     "output_type": "execute_result"
    }
   ],
   "source": [
    "df.shape"
   ]
  },
  {
   "cell_type": "markdown",
   "id": "675d4d74",
   "metadata": {},
   "source": [
    "We see a whole lot of missing values in `emotion_in_tweet_is_directed_at` columns. However, in our `tweet_text` column there is only one missing values"
   ]
  },
  {
   "cell_type": "code",
   "execution_count": 4,
   "id": "ad549a49",
   "metadata": {},
   "outputs": [
    {
     "name": "stdout",
     "output_type": "stream",
     "text": [
      "<class 'pandas.core.frame.DataFrame'>\n",
      "RangeIndex: 9093 entries, 0 to 9092\n",
      "Data columns (total 3 columns):\n",
      " #   Column                                              Non-Null Count  Dtype \n",
      "---  ------                                              --------------  ----- \n",
      " 0   tweet_text                                          9092 non-null   object\n",
      " 1   emotion_in_tweet_is_directed_at                     3291 non-null   object\n",
      " 2   is_there_an_emotion_directed_at_a_brand_or_product  9093 non-null   object\n",
      "dtypes: object(3)\n",
      "memory usage: 213.2+ KB\n"
     ]
    }
   ],
   "source": [
    "df.info()"
   ]
  },
  {
   "cell_type": "code",
   "execution_count": 5,
   "id": "93889fe6",
   "metadata": {},
   "outputs": [
    {
     "data": {
      "text/html": [
       "<div>\n",
       "<style scoped>\n",
       "    .dataframe tbody tr th:only-of-type {\n",
       "        vertical-align: middle;\n",
       "    }\n",
       "\n",
       "    .dataframe tbody tr th {\n",
       "        vertical-align: top;\n",
       "    }\n",
       "\n",
       "    .dataframe thead th {\n",
       "        text-align: right;\n",
       "    }\n",
       "</style>\n",
       "<table border=\"1\" class=\"dataframe\">\n",
       "  <thead>\n",
       "    <tr style=\"text-align: right;\">\n",
       "      <th></th>\n",
       "      <th>tweet_text</th>\n",
       "      <th>emotion_in_tweet_is_directed_at</th>\n",
       "      <th>is_there_an_emotion_directed_at_a_brand_or_product</th>\n",
       "    </tr>\n",
       "  </thead>\n",
       "  <tbody>\n",
       "    <tr>\n",
       "      <th>0</th>\n",
       "      <td>.@wesley83 I have a 3G iPhone. After 3 hrs twe...</td>\n",
       "      <td>iPhone</td>\n",
       "      <td>Negative emotion</td>\n",
       "    </tr>\n",
       "    <tr>\n",
       "      <th>1</th>\n",
       "      <td>@jessedee Know about @fludapp ? Awesome iPad/i...</td>\n",
       "      <td>iPad or iPhone App</td>\n",
       "      <td>Positive emotion</td>\n",
       "    </tr>\n",
       "    <tr>\n",
       "      <th>2</th>\n",
       "      <td>@swonderlin Can not wait for #iPad 2 also. The...</td>\n",
       "      <td>iPad</td>\n",
       "      <td>Positive emotion</td>\n",
       "    </tr>\n",
       "    <tr>\n",
       "      <th>3</th>\n",
       "      <td>@sxsw I hope this year's festival isn't as cra...</td>\n",
       "      <td>iPad or iPhone App</td>\n",
       "      <td>Negative emotion</td>\n",
       "    </tr>\n",
       "    <tr>\n",
       "      <th>4</th>\n",
       "      <td>@sxtxstate great stuff on Fri #SXSW: Marissa M...</td>\n",
       "      <td>Google</td>\n",
       "      <td>Positive emotion</td>\n",
       "    </tr>\n",
       "  </tbody>\n",
       "</table>\n",
       "</div>"
      ],
      "text/plain": [
       "                                          tweet_text  \\\n",
       "0  .@wesley83 I have a 3G iPhone. After 3 hrs twe...   \n",
       "1  @jessedee Know about @fludapp ? Awesome iPad/i...   \n",
       "2  @swonderlin Can not wait for #iPad 2 also. The...   \n",
       "3  @sxsw I hope this year's festival isn't as cra...   \n",
       "4  @sxtxstate great stuff on Fri #SXSW: Marissa M...   \n",
       "\n",
       "  emotion_in_tweet_is_directed_at  \\\n",
       "0                          iPhone   \n",
       "1              iPad or iPhone App   \n",
       "2                            iPad   \n",
       "3              iPad or iPhone App   \n",
       "4                          Google   \n",
       "\n",
       "  is_there_an_emotion_directed_at_a_brand_or_product  \n",
       "0                                   Negative emotion  \n",
       "1                                   Positive emotion  \n",
       "2                                   Positive emotion  \n",
       "3                                   Negative emotion  \n",
       "4                                   Positive emotion  "
      ]
     },
     "execution_count": 5,
     "metadata": {},
     "output_type": "execute_result"
    }
   ],
   "source": [
    "df.head()"
   ]
  },
  {
   "cell_type": "code",
   "execution_count": 6,
   "id": "3704359b",
   "metadata": {},
   "outputs": [],
   "source": [
    "df.columns =['tweet', 'device', 'emotion']"
   ]
  },
  {
   "cell_type": "markdown",
   "id": "29b115c5",
   "metadata": {},
   "source": [
    "There is four category of emotions, of which the three is pretty straightforward. But there is also an extra category in there that does not reflect the emotion at all. Lets delve to find out what we can do with '`I can't tell`' category"
   ]
  },
  {
   "cell_type": "code",
   "execution_count": 7,
   "id": "42f4d213",
   "metadata": {},
   "outputs": [
    {
     "data": {
      "text/plain": [
       "array(['Negative emotion', 'Positive emotion',\n",
       "       'No emotion toward brand or product', \"I can't tell\"], dtype=object)"
      ]
     },
     "execution_count": 7,
     "metadata": {},
     "output_type": "execute_result"
    }
   ],
   "source": [
    "df['emotion'].unique()"
   ]
  },
  {
   "cell_type": "markdown",
   "id": "e39541fd",
   "metadata": {},
   "source": [
    "Given that our total record size is (9093, 3) the emotion with \"`I can't tell`\" category only occupies about 156 rows which is about 1.7 % of total record, which we can drop it. Given that our main classification goal is to predict emotion of a tweet, for now we will just drop it and only focus on the three category of emotions."
   ]
  },
  {
   "cell_type": "markdown",
   "id": "27620f9b",
   "metadata": {},
   "source": [
    "Just an overview our tweet with where there is \"`I can't tell`\" category. "
   ]
  },
  {
   "cell_type": "code",
   "execution_count": 8,
   "id": "9a378559",
   "metadata": {},
   "outputs": [
    {
     "data": {
      "text/html": [
       "<div>\n",
       "<style scoped>\n",
       "    .dataframe tbody tr th:only-of-type {\n",
       "        vertical-align: middle;\n",
       "    }\n",
       "\n",
       "    .dataframe tbody tr th {\n",
       "        vertical-align: top;\n",
       "    }\n",
       "\n",
       "    .dataframe thead th {\n",
       "        text-align: right;\n",
       "    }\n",
       "</style>\n",
       "<table border=\"1\" class=\"dataframe\">\n",
       "  <thead>\n",
       "    <tr style=\"text-align: right;\">\n",
       "      <th></th>\n",
       "      <th>tweet</th>\n",
       "      <th>device</th>\n",
       "      <th>emotion</th>\n",
       "    </tr>\n",
       "  </thead>\n",
       "  <tbody>\n",
       "    <tr>\n",
       "      <th>90</th>\n",
       "      <td>Thanks to @mention for publishing the news of ...</td>\n",
       "      <td>NaN</td>\n",
       "      <td>I can't tell</td>\n",
       "    </tr>\n",
       "    <tr>\n",
       "      <th>102</th>\n",
       "      <td>ÛÏ@mention &amp;quot;Apple has opened a pop-up st...</td>\n",
       "      <td>NaN</td>\n",
       "      <td>I can't tell</td>\n",
       "    </tr>\n",
       "    <tr>\n",
       "      <th>237</th>\n",
       "      <td>Just what America needs. RT @mention Google to...</td>\n",
       "      <td>NaN</td>\n",
       "      <td>I can't tell</td>\n",
       "    </tr>\n",
       "    <tr>\n",
       "      <th>341</th>\n",
       "      <td>The queue at the Apple Store in Austin is FOUR...</td>\n",
       "      <td>NaN</td>\n",
       "      <td>I can't tell</td>\n",
       "    </tr>\n",
       "    <tr>\n",
       "      <th>368</th>\n",
       "      <td>Hope it's better than wave RT @mention Buzz is...</td>\n",
       "      <td>NaN</td>\n",
       "      <td>I can't tell</td>\n",
       "    </tr>\n",
       "    <tr>\n",
       "      <th>...</th>\n",
       "      <td>...</td>\n",
       "      <td>...</td>\n",
       "      <td>...</td>\n",
       "    </tr>\n",
       "    <tr>\n",
       "      <th>9020</th>\n",
       "      <td>It's funny watching a room full of people hold...</td>\n",
       "      <td>NaN</td>\n",
       "      <td>I can't tell</td>\n",
       "    </tr>\n",
       "    <tr>\n",
       "      <th>9032</th>\n",
       "      <td>@mention yeah, we have @mention , Google has n...</td>\n",
       "      <td>NaN</td>\n",
       "      <td>I can't tell</td>\n",
       "    </tr>\n",
       "    <tr>\n",
       "      <th>9037</th>\n",
       "      <td>@mention Yes, the Google presentation was not ...</td>\n",
       "      <td>NaN</td>\n",
       "      <td>I can't tell</td>\n",
       "    </tr>\n",
       "    <tr>\n",
       "      <th>9058</th>\n",
       "      <td>&amp;quot;Do you know what Apple is really good at...</td>\n",
       "      <td>NaN</td>\n",
       "      <td>I can't tell</td>\n",
       "    </tr>\n",
       "    <tr>\n",
       "      <th>9066</th>\n",
       "      <td>How much you want to bet Apple is disproportio...</td>\n",
       "      <td>Apple</td>\n",
       "      <td>I can't tell</td>\n",
       "    </tr>\n",
       "  </tbody>\n",
       "</table>\n",
       "<p>156 rows × 3 columns</p>\n",
       "</div>"
      ],
      "text/plain": [
       "                                                  tweet device       emotion\n",
       "90    Thanks to @mention for publishing the news of ...    NaN  I can't tell\n",
       "102   ÛÏ@mention &quot;Apple has opened a pop-up st...    NaN  I can't tell\n",
       "237   Just what America needs. RT @mention Google to...    NaN  I can't tell\n",
       "341   The queue at the Apple Store in Austin is FOUR...    NaN  I can't tell\n",
       "368   Hope it's better than wave RT @mention Buzz is...    NaN  I can't tell\n",
       "...                                                 ...    ...           ...\n",
       "9020  It's funny watching a room full of people hold...    NaN  I can't tell\n",
       "9032  @mention yeah, we have @mention , Google has n...    NaN  I can't tell\n",
       "9037  @mention Yes, the Google presentation was not ...    NaN  I can't tell\n",
       "9058  &quot;Do you know what Apple is really good at...    NaN  I can't tell\n",
       "9066  How much you want to bet Apple is disproportio...  Apple  I can't tell\n",
       "\n",
       "[156 rows x 3 columns]"
      ]
     },
     "execution_count": 8,
     "metadata": {},
     "output_type": "execute_result"
    }
   ],
   "source": [
    "df[df['emotion'] == \"I can't tell\"]"
   ]
  },
  {
   "cell_type": "markdown",
   "id": "76801860",
   "metadata": {},
   "source": [
    "Here we only include the records with just three emotion"
   ]
  },
  {
   "cell_type": "code",
   "execution_count": 9,
   "id": "24411189",
   "metadata": {},
   "outputs": [],
   "source": [
    "df = df[df['emotion'] !=\"I can't tell\"]"
   ]
  },
  {
   "cell_type": "code",
   "execution_count": 10,
   "id": "39ebc36e",
   "metadata": {},
   "outputs": [
    {
     "data": {
      "text/plain": [
       "array(['Negative emotion', 'Positive emotion',\n",
       "       'No emotion toward brand or product'], dtype=object)"
      ]
     },
     "execution_count": 10,
     "metadata": {},
     "output_type": "execute_result"
    }
   ],
   "source": [
    "df['emotion'].unique()"
   ]
  },
  {
   "cell_type": "markdown",
   "id": "f5af9b92",
   "metadata": {},
   "source": [
    "Taking only '`tweet`' and '`emotion`' column into consideration because, '`device`' column contains a lot of null values (approximately 64 % null values of total records). And, our domain knowledge tells us that the device they tweet do not have significant impact on the sentiment of the tweet."
   ]
  },
  {
   "cell_type": "code",
   "execution_count": 11,
   "id": "2d70d27e",
   "metadata": {},
   "outputs": [],
   "source": [
    "df = df[['tweet', 'emotion']]"
   ]
  },
  {
   "cell_type": "markdown",
   "id": "d944726d",
   "metadata": {},
   "source": [
    "Earlier, we found out that our '`tweet`' column contain only one null values, let us see the record and drop it."
   ]
  },
  {
   "cell_type": "code",
   "execution_count": 12,
   "id": "060e175b",
   "metadata": {
    "scrolled": true
   },
   "outputs": [
    {
     "data": {
      "text/html": [
       "<div>\n",
       "<style scoped>\n",
       "    .dataframe tbody tr th:only-of-type {\n",
       "        vertical-align: middle;\n",
       "    }\n",
       "\n",
       "    .dataframe tbody tr th {\n",
       "        vertical-align: top;\n",
       "    }\n",
       "\n",
       "    .dataframe thead th {\n",
       "        text-align: right;\n",
       "    }\n",
       "</style>\n",
       "<table border=\"1\" class=\"dataframe\">\n",
       "  <thead>\n",
       "    <tr style=\"text-align: right;\">\n",
       "      <th></th>\n",
       "      <th>tweet</th>\n",
       "      <th>emotion</th>\n",
       "    </tr>\n",
       "  </thead>\n",
       "  <tbody>\n",
       "    <tr>\n",
       "      <th>6</th>\n",
       "      <td>NaN</td>\n",
       "      <td>No emotion toward brand or product</td>\n",
       "    </tr>\n",
       "  </tbody>\n",
       "</table>\n",
       "</div>"
      ],
      "text/plain": [
       "  tweet                             emotion\n",
       "6   NaN  No emotion toward brand or product"
      ]
     },
     "execution_count": 12,
     "metadata": {},
     "output_type": "execute_result"
    }
   ],
   "source": [
    "df[df.isnull().any(axis = 1)]"
   ]
  },
  {
   "cell_type": "code",
   "execution_count": 13,
   "id": "105d3358",
   "metadata": {},
   "outputs": [],
   "source": [
    "df.dropna(inplace=True)"
   ]
  },
  {
   "cell_type": "code",
   "execution_count": 14,
   "id": "690f246b",
   "metadata": {},
   "outputs": [
    {
     "data": {
      "text/plain": [
       "tweet      False\n",
       "emotion    False\n",
       "dtype: bool"
      ]
     },
     "execution_count": 14,
     "metadata": {},
     "output_type": "execute_result"
    }
   ],
   "source": [
    "df.isna().any()"
   ]
  },
  {
   "cell_type": "code",
   "execution_count": 15,
   "id": "708257dd",
   "metadata": {},
   "outputs": [
    {
     "data": {
      "text/html": [
       "<div>\n",
       "<style scoped>\n",
       "    .dataframe tbody tr th:only-of-type {\n",
       "        vertical-align: middle;\n",
       "    }\n",
       "\n",
       "    .dataframe tbody tr th {\n",
       "        vertical-align: top;\n",
       "    }\n",
       "\n",
       "    .dataframe thead th {\n",
       "        text-align: right;\n",
       "    }\n",
       "</style>\n",
       "<table border=\"1\" class=\"dataframe\">\n",
       "  <thead>\n",
       "    <tr style=\"text-align: right;\">\n",
       "      <th></th>\n",
       "      <th>tweet</th>\n",
       "    </tr>\n",
       "    <tr>\n",
       "      <th>emotion</th>\n",
       "      <th></th>\n",
       "    </tr>\n",
       "  </thead>\n",
       "  <tbody>\n",
       "    <tr>\n",
       "      <th>Negative emotion</th>\n",
       "      <td>570</td>\n",
       "    </tr>\n",
       "    <tr>\n",
       "      <th>No emotion toward brand or product</th>\n",
       "      <td>5388</td>\n",
       "    </tr>\n",
       "    <tr>\n",
       "      <th>Positive emotion</th>\n",
       "      <td>2978</td>\n",
       "    </tr>\n",
       "  </tbody>\n",
       "</table>\n",
       "</div>"
      ],
      "text/plain": [
       "                                    tweet\n",
       "emotion                                  \n",
       "Negative emotion                      570\n",
       "No emotion toward brand or product   5388\n",
       "Positive emotion                     2978"
      ]
     },
     "execution_count": 15,
     "metadata": {},
     "output_type": "execute_result"
    }
   ],
   "source": [
    "df.groupby('emotion').count()"
   ]
  },
  {
   "cell_type": "markdown",
   "id": "2b76faeb",
   "metadata": {},
   "source": [
    "Here, our dataset seems to be imbalanced. The lowest number of records is `negative emotion` which is approximately 6 % of the total dataset, while `neutral emotion` is dominant class with approximately 60 % of the dataset."
   ]
  },
  {
   "cell_type": "code",
   "execution_count": null,
   "id": "9f3bd68b",
   "metadata": {},
   "outputs": [],
   "source": []
  },
  {
   "cell_type": "markdown",
   "id": "b9b46b56",
   "metadata": {},
   "source": [
    "Here, we create a method to preprocess the columns, such as remove all the puncutations, remove special characters and then convert them all to lowercase."
   ]
  },
  {
   "cell_type": "code",
   "execution_count": 16,
   "id": "4def915d",
   "metadata": {},
   "outputs": [],
   "source": [
    "def preprocess_text(text):\n",
    "    if isinstance(text, str):\n",
    "        # Remove punctuation\n",
    "        text = text.translate(str.maketrans('', '', string.punctuation))\n",
    "        # Remove special characters and symbols\n",
    "        text = re.sub(r'[^a-zA-Z0-9\\s]', '', text)\n",
    "        text = text.lower()\n",
    "    return text"
   ]
  },
  {
   "cell_type": "code",
   "execution_count": 17,
   "id": "890ba54b",
   "metadata": {},
   "outputs": [],
   "source": [
    "df['tweet']= DataFrame(df['tweet'].apply(preprocess_text))"
   ]
  },
  {
   "cell_type": "markdown",
   "id": "b6d72252",
   "metadata": {},
   "source": [
    "### Train, Test Split"
   ]
  },
  {
   "cell_type": "code",
   "execution_count": 18,
   "id": "10b93f23",
   "metadata": {},
   "outputs": [],
   "source": [
    "X, y = df['tweet'], df['emotion']"
   ]
  },
  {
   "cell_type": "code",
   "execution_count": 19,
   "id": "acbfccc5",
   "metadata": {},
   "outputs": [
    {
     "data": {
      "text/plain": [
       "(8936,)"
      ]
     },
     "execution_count": 19,
     "metadata": {},
     "output_type": "execute_result"
    }
   ],
   "source": [
    "X.shape"
   ]
  },
  {
   "cell_type": "markdown",
   "id": "f74fc6b8",
   "metadata": {},
   "source": [
    "### Using Count Vectorizer \n",
    "`CountVectorizer` is a feature extraction technique provided by scikit-learn. It is used to convert a collection of text documents into a matrix of token counts. Here's how it works:\n",
    "- `Tokenization` breaks down each document into indviduals words or terms. The process is called tokenization.\n",
    "- `Counting` It counts the occurences of each word in each document. The result is a matrix where each row represents a document, and each column represents a word, with the cell value indicating how many times the word appear in the document."
   ]
  },
  {
   "cell_type": "code",
   "execution_count": 20,
   "id": "691e6e47",
   "metadata": {},
   "outputs": [],
   "source": [
    "from sklearn.feature_extraction.text import CountVectorizer"
   ]
  },
  {
   "cell_type": "code",
   "execution_count": 21,
   "id": "ea3e6a22",
   "metadata": {},
   "outputs": [],
   "source": [
    "count_vectorizer = CountVectorizer()"
   ]
  },
  {
   "cell_type": "code",
   "execution_count": 22,
   "id": "9622f0a4",
   "metadata": {},
   "outputs": [],
   "source": [
    "X = count_vectorizer.fit_transform(X)"
   ]
  },
  {
   "cell_type": "code",
   "execution_count": 23,
   "id": "0d3b1e63",
   "metadata": {},
   "outputs": [
    {
     "data": {
      "text/plain": [
       "<8936x10743 sparse matrix of type '<class 'numpy.int64'>'\n",
       "\twith 142875 stored elements in Compressed Sparse Row format>"
      ]
     },
     "execution_count": 23,
     "metadata": {},
     "output_type": "execute_result"
    }
   ],
   "source": [
    "X"
   ]
  },
  {
   "cell_type": "code",
   "execution_count": 24,
   "id": "d47f4077",
   "metadata": {
    "scrolled": true
   },
   "outputs": [],
   "source": [
    "X = X.toarray()"
   ]
  },
  {
   "cell_type": "code",
   "execution_count": 25,
   "id": "c23b88a7",
   "metadata": {},
   "outputs": [
    {
     "data": {
      "text/plain": [
       "(8936, 10743)"
      ]
     },
     "execution_count": 25,
     "metadata": {},
     "output_type": "execute_result"
    }
   ],
   "source": [
    "X.shape"
   ]
  },
  {
   "cell_type": "code",
   "execution_count": 26,
   "id": "a6698a36",
   "metadata": {},
   "outputs": [],
   "source": [
    "#for i in count_vectorizer.get_feature_names_out():\n",
    "#    print(i)"
   ]
  },
  {
   "cell_type": "code",
   "execution_count": 27,
   "id": "21170e73",
   "metadata": {},
   "outputs": [],
   "source": [
    "from sklearn.preprocessing import LabelEncoder"
   ]
  },
  {
   "cell_type": "code",
   "execution_count": 28,
   "id": "7af0fb00",
   "metadata": {},
   "outputs": [],
   "source": [
    "encoder = LabelEncoder()"
   ]
  },
  {
   "cell_type": "code",
   "execution_count": 29,
   "id": "0cec1205",
   "metadata": {},
   "outputs": [],
   "source": [
    "y = encoder.fit_transform(y)"
   ]
  },
  {
   "cell_type": "code",
   "execution_count": null,
   "id": "a1e1e272",
   "metadata": {},
   "outputs": [],
   "source": []
  },
  {
   "cell_type": "code",
   "execution_count": null,
   "id": "e11d07b9",
   "metadata": {},
   "outputs": [],
   "source": []
  },
  {
   "cell_type": "code",
   "execution_count": 30,
   "id": "1d0d93d4",
   "metadata": {},
   "outputs": [],
   "source": [
    "X_train, X_test, y_train, y_test = train_test_split(X, y, train_size=0.8, random_state=42)"
   ]
  },
  {
   "cell_type": "markdown",
   "id": "b2638860",
   "metadata": {},
   "source": [
    "### Import and Train the Model\n",
    "\n",
    "### Multinomial NB using Count Vectorizer"
   ]
  },
  {
   "cell_type": "code",
   "execution_count": null,
   "id": "8b52f55d",
   "metadata": {},
   "outputs": [],
   "source": []
  },
  {
   "cell_type": "markdown",
   "id": "203e4588",
   "metadata": {},
   "source": [
    "### Random Over Sampling"
   ]
  },
  {
   "cell_type": "code",
   "execution_count": 32,
   "id": "e17c1726",
   "metadata": {},
   "outputs": [],
   "source": [
    "ros = RandomOverSampler(random_state = 42)"
   ]
  },
  {
   "cell_type": "code",
   "execution_count": 33,
   "id": "94e26de8",
   "metadata": {},
   "outputs": [],
   "source": [
    "X_train_resampled, y_train_resampled = ros.fit_resample(X_train, y_train)"
   ]
  },
  {
   "cell_type": "code",
   "execution_count": null,
   "id": "d1944a8e",
   "metadata": {},
   "outputs": [],
   "source": []
  },
  {
   "cell_type": "code",
   "execution_count": 34,
   "id": "736b8046",
   "metadata": {},
   "outputs": [],
   "source": [
    "from sklearn.naive_bayes import MultinomialNB"
   ]
  },
  {
   "cell_type": "code",
   "execution_count": 35,
   "id": "7ad87e10",
   "metadata": {},
   "outputs": [],
   "source": [
    "multinomial_NB = MultinomialNB()"
   ]
  },
  {
   "cell_type": "code",
   "execution_count": 36,
   "id": "b6fbd5b4",
   "metadata": {},
   "outputs": [
    {
     "data": {
      "text/html": [
       "<style>#sk-container-id-1 {color: black;background-color: white;}#sk-container-id-1 pre{padding: 0;}#sk-container-id-1 div.sk-toggleable {background-color: white;}#sk-container-id-1 label.sk-toggleable__label {cursor: pointer;display: block;width: 100%;margin-bottom: 0;padding: 0.3em;box-sizing: border-box;text-align: center;}#sk-container-id-1 label.sk-toggleable__label-arrow:before {content: \"▸\";float: left;margin-right: 0.25em;color: #696969;}#sk-container-id-1 label.sk-toggleable__label-arrow:hover:before {color: black;}#sk-container-id-1 div.sk-estimator:hover label.sk-toggleable__label-arrow:before {color: black;}#sk-container-id-1 div.sk-toggleable__content {max-height: 0;max-width: 0;overflow: hidden;text-align: left;background-color: #f0f8ff;}#sk-container-id-1 div.sk-toggleable__content pre {margin: 0.2em;color: black;border-radius: 0.25em;background-color: #f0f8ff;}#sk-container-id-1 input.sk-toggleable__control:checked~div.sk-toggleable__content {max-height: 200px;max-width: 100%;overflow: auto;}#sk-container-id-1 input.sk-toggleable__control:checked~label.sk-toggleable__label-arrow:before {content: \"▾\";}#sk-container-id-1 div.sk-estimator input.sk-toggleable__control:checked~label.sk-toggleable__label {background-color: #d4ebff;}#sk-container-id-1 div.sk-label input.sk-toggleable__control:checked~label.sk-toggleable__label {background-color: #d4ebff;}#sk-container-id-1 input.sk-hidden--visually {border: 0;clip: rect(1px 1px 1px 1px);clip: rect(1px, 1px, 1px, 1px);height: 1px;margin: -1px;overflow: hidden;padding: 0;position: absolute;width: 1px;}#sk-container-id-1 div.sk-estimator {font-family: monospace;background-color: #f0f8ff;border: 1px dotted black;border-radius: 0.25em;box-sizing: border-box;margin-bottom: 0.5em;}#sk-container-id-1 div.sk-estimator:hover {background-color: #d4ebff;}#sk-container-id-1 div.sk-parallel-item::after {content: \"\";width: 100%;border-bottom: 1px solid gray;flex-grow: 1;}#sk-container-id-1 div.sk-label:hover label.sk-toggleable__label {background-color: #d4ebff;}#sk-container-id-1 div.sk-serial::before {content: \"\";position: absolute;border-left: 1px solid gray;box-sizing: border-box;top: 0;bottom: 0;left: 50%;z-index: 0;}#sk-container-id-1 div.sk-serial {display: flex;flex-direction: column;align-items: center;background-color: white;padding-right: 0.2em;padding-left: 0.2em;position: relative;}#sk-container-id-1 div.sk-item {position: relative;z-index: 1;}#sk-container-id-1 div.sk-parallel {display: flex;align-items: stretch;justify-content: center;background-color: white;position: relative;}#sk-container-id-1 div.sk-item::before, #sk-container-id-1 div.sk-parallel-item::before {content: \"\";position: absolute;border-left: 1px solid gray;box-sizing: border-box;top: 0;bottom: 0;left: 50%;z-index: -1;}#sk-container-id-1 div.sk-parallel-item {display: flex;flex-direction: column;z-index: 1;position: relative;background-color: white;}#sk-container-id-1 div.sk-parallel-item:first-child::after {align-self: flex-end;width: 50%;}#sk-container-id-1 div.sk-parallel-item:last-child::after {align-self: flex-start;width: 50%;}#sk-container-id-1 div.sk-parallel-item:only-child::after {width: 0;}#sk-container-id-1 div.sk-dashed-wrapped {border: 1px dashed gray;margin: 0 0.4em 0.5em 0.4em;box-sizing: border-box;padding-bottom: 0.4em;background-color: white;}#sk-container-id-1 div.sk-label label {font-family: monospace;font-weight: bold;display: inline-block;line-height: 1.2em;}#sk-container-id-1 div.sk-label-container {text-align: center;}#sk-container-id-1 div.sk-container {/* jupyter's `normalize.less` sets `[hidden] { display: none; }` but bootstrap.min.css set `[hidden] { display: none !important; }` so we also need the `!important` here to be able to override the default hidden behavior on the sphinx rendered scikit-learn.org. See: https://github.com/scikit-learn/scikit-learn/issues/21755 */display: inline-block !important;position: relative;}#sk-container-id-1 div.sk-text-repr-fallback {display: none;}</style><div id=\"sk-container-id-1\" class=\"sk-top-container\"><div class=\"sk-text-repr-fallback\"><pre>MultinomialNB()</pre><b>In a Jupyter environment, please rerun this cell to show the HTML representation or trust the notebook. <br />On GitHub, the HTML representation is unable to render, please try loading this page with nbviewer.org.</b></div><div class=\"sk-container\" hidden><div class=\"sk-item\"><div class=\"sk-estimator sk-toggleable\"><input class=\"sk-toggleable__control sk-hidden--visually\" id=\"sk-estimator-id-1\" type=\"checkbox\" checked><label for=\"sk-estimator-id-1\" class=\"sk-toggleable__label sk-toggleable__label-arrow\">MultinomialNB</label><div class=\"sk-toggleable__content\"><pre>MultinomialNB()</pre></div></div></div></div></div>"
      ],
      "text/plain": [
       "MultinomialNB()"
      ]
     },
     "execution_count": 36,
     "metadata": {},
     "output_type": "execute_result"
    }
   ],
   "source": [
    "multinomial_NB.fit(X_train_resampled, y_train_resampled)"
   ]
  },
  {
   "cell_type": "code",
   "execution_count": 37,
   "id": "283a0149",
   "metadata": {},
   "outputs": [],
   "source": [
    "y_predict_mn = multinomial_NB.predict(X_test)"
   ]
  },
  {
   "cell_type": "code",
   "execution_count": null,
   "id": "84dfa5b4",
   "metadata": {},
   "outputs": [],
   "source": []
  },
  {
   "cell_type": "code",
   "execution_count": null,
   "id": "800a2241",
   "metadata": {},
   "outputs": [],
   "source": []
  },
  {
   "cell_type": "markdown",
   "id": "3ef4d63f",
   "metadata": {},
   "source": [
    "### Metrics"
   ]
  },
  {
   "cell_type": "code",
   "execution_count": 38,
   "id": "940f1cd0",
   "metadata": {},
   "outputs": [
    {
     "data": {
      "text/plain": [
       "(1788,)"
      ]
     },
     "execution_count": 38,
     "metadata": {},
     "output_type": "execute_result"
    }
   ],
   "source": [
    "y_predict_mn.shape"
   ]
  },
  {
   "cell_type": "code",
   "execution_count": 39,
   "id": "21baabf2",
   "metadata": {},
   "outputs": [
    {
     "data": {
      "text/plain": [
       "(1788,)"
      ]
     },
     "execution_count": 39,
     "metadata": {},
     "output_type": "execute_result"
    }
   ],
   "source": [
    "y_test.shape"
   ]
  },
  {
   "cell_type": "code",
   "execution_count": 40,
   "id": "a6d25c1b",
   "metadata": {},
   "outputs": [
    {
     "name": "stdout",
     "output_type": "stream",
     "text": [
      "Accuracy Score:  0.6180089485458613\n"
     ]
    }
   ],
   "source": [
    "accuracy = accuracy_score(y_test, y_predict_mn)\n",
    "print('Accuracy Score: ', accuracy)"
   ]
  },
  {
   "cell_type": "code",
   "execution_count": 41,
   "id": "4a03cf0d",
   "metadata": {},
   "outputs": [
    {
     "name": "stdout",
     "output_type": "stream",
     "text": [
      "Classification report:               precision    recall  f1-score   support\n",
      "\n",
      "           0       0.34      0.56      0.43       126\n",
      "           1       0.77      0.62      0.69      1094\n",
      "           2       0.50      0.63      0.56       568\n",
      "\n",
      "    accuracy                           0.62      1788\n",
      "   macro avg       0.54      0.60      0.56      1788\n",
      "weighted avg       0.66      0.62      0.63      1788\n",
      "\n"
     ]
    }
   ],
   "source": [
    "c_report = classification_report(y_test, y_predict_mn)\n",
    "print('Classification report:', c_report)"
   ]
  },
  {
   "cell_type": "code",
   "execution_count": 42,
   "id": "0e535397",
   "metadata": {},
   "outputs": [
    {
     "name": "stdout",
     "output_type": "stream",
     "text": [
      "Confusion Matrix: [[ 70  33  23]\n",
      " [ 87 677 330]\n",
      " [ 46 164 358]]\n"
     ]
    },
    {
     "data": {
      "text/plain": [
       "<sklearn.metrics._plot.confusion_matrix.ConfusionMatrixDisplay at 0x13e406a50>"
      ]
     },
     "execution_count": 42,
     "metadata": {},
     "output_type": "execute_result"
    },
    {
     "data": {
      "image/png": "[encoded data removed]",
      "text/plain": [
       "<Figure size 640x480 with 2 Axes>"
      ]
     },
     "metadata": {},
     "output_type": "display_data"
    }
   ],
   "source": [
    "c_matrix_mn = confusion_matrix(y_test, y_predict_mn, labels=multinomial_NB.classes_)\n",
    "print('Confusion Matrix:', c_matrix_mn)\n",
    "plt = ConfusionMatrixDisplay(confusion_matrix=c_matrix_mn, display_labels=multinomial_NB.classes_)\n",
    "plt.plot(cmap='Blues')"
   ]
  },
  {
   "cell_type": "markdown",
   "id": "6458ea23",
   "metadata": {},
   "source": [
    "### Using Term Frequency - Inverse Document Frequency\n",
    "\n",
    "`Term Frequency(TF)` - It measures how frequently a term occurs in a document. It is calculated as the number of times a term appears in a document divided by the total number of terms in a document. \n",
    "\n",
    "`Inverse Document Frequency(IDF)` - It measures how important a term is accross the entire corpus. It is calculated as the logarithm of the total number of documents divided by the number of documents containing the term. "
   ]
  },
  {
   "cell_type": "code",
   "execution_count": null,
   "id": "db1b2853",
   "metadata": {},
   "outputs": [],
   "source": [
    "X1, y1 = df['tweet'], df['emotion']"
   ]
  },
  {
   "cell_type": "code",
   "execution_count": null,
   "id": "a6e98d41",
   "metadata": {},
   "outputs": [],
   "source": [
    "X1"
   ]
  },
  {
   "cell_type": "code",
   "execution_count": null,
   "id": "13cb6497",
   "metadata": {},
   "outputs": [],
   "source": [
    "from sklearn.feature_extraction.text import TfidfVectorizer"
   ]
  },
  {
   "cell_type": "code",
   "execution_count": null,
   "id": "9d25ca6e",
   "metadata": {},
   "outputs": [],
   "source": [
    "vectorizer = TfidfVectorizer()\n",
    "X1 = vectorizer.fit_transform(X1)"
   ]
  },
  {
   "cell_type": "code",
   "execution_count": null,
   "id": "32c6ca11",
   "metadata": {},
   "outputs": [],
   "source": [
    "X1 = X1.toarray()"
   ]
  },
  {
   "cell_type": "code",
   "execution_count": null,
   "id": "c1d9af22",
   "metadata": {},
   "outputs": [],
   "source": [
    "X1.shape"
   ]
  },
  {
   "cell_type": "code",
   "execution_count": null,
   "id": "f034fb8f",
   "metadata": {},
   "outputs": [],
   "source": [
    "from sklearn.preprocessing import LabelEncoder"
   ]
  },
  {
   "cell_type": "code",
   "execution_count": null,
   "id": "37cc1e7e",
   "metadata": {},
   "outputs": [],
   "source": [
    "label_encoder = LabelEncoder()"
   ]
  },
  {
   "cell_type": "code",
   "execution_count": null,
   "id": "fa79e253",
   "metadata": {},
   "outputs": [],
   "source": [
    "y1 = label_encoder.fit_transform(y1)\n",
    "y1.shape"
   ]
  },
  {
   "cell_type": "code",
   "execution_count": null,
   "id": "7e8518a1",
   "metadata": {},
   "outputs": [],
   "source": [
    "X1_train, X1_test, y1_train, y1_test = train_test_split(X1, y1, train_size=0.8, random_state=42)"
   ]
  },
  {
   "cell_type": "code",
   "execution_count": null,
   "id": "5e31f701",
   "metadata": {},
   "outputs": [],
   "source": [
    "multinomial_NB_tfidf= MultinomialNB()"
   ]
  },
  {
   "cell_type": "code",
   "execution_count": null,
   "id": "d96725df",
   "metadata": {},
   "outputs": [],
   "source": [
    "type(X1_train)"
   ]
  },
  {
   "cell_type": "code",
   "execution_count": null,
   "id": "22d71574",
   "metadata": {},
   "outputs": [],
   "source": [
    "multinomial_NB_tfidf.fit(X1_train, y1_train)"
   ]
  },
  {
   "cell_type": "code",
   "execution_count": null,
   "id": "71341b6b",
   "metadata": {},
   "outputs": [],
   "source": [
    "y_predict_tfidf = multinomial_NB_tfidf.predict(X1_test)"
   ]
  },
  {
   "cell_type": "code",
   "execution_count": null,
   "id": "df9d87bb",
   "metadata": {},
   "outputs": [],
   "source": [
    "y_predict_tfidf"
   ]
  },
  {
   "cell_type": "markdown",
   "id": "b83dd650",
   "metadata": {},
   "source": [
    "### Metrics"
   ]
  },
  {
   "cell_type": "code",
   "execution_count": null,
   "id": "7bab28d0",
   "metadata": {},
   "outputs": [],
   "source": [
    "y1_test.shape"
   ]
  },
  {
   "cell_type": "code",
   "execution_count": null,
   "id": "aa68f90a",
   "metadata": {},
   "outputs": [],
   "source": [
    "accuracy = accuracy_score(y_test, y_predict_tfidf)\n",
    "print('Accuracy Score: ', accuracy)"
   ]
  },
  {
   "cell_type": "code",
   "execution_count": null,
   "id": "fbd3ffc8",
   "metadata": {},
   "outputs": [],
   "source": [
    "c_report = classification_report(y_test, y_predict_tfidf)\n",
    "print('Classification report:', c_report)"
   ]
  },
  {
   "cell_type": "code",
   "execution_count": null,
   "id": "8f9eaa37",
   "metadata": {},
   "outputs": [],
   "source": [
    "c_matrix_tfidf = confusion_matrix(y_test, y_predict_tfidf, labels=multinomial_NB_tfidf.classes_)\n",
    "print('Confusion Matrix:', c_matrix_tfidf)\n",
    "plt = ConfusionMatrixDisplay(confusion_matrix=c_matrix_tfidf, display_labels=multinomial_NB_tfidf.classes_)\n",
    "plt.plot(cmap='Blues')"
   ]
  },
  {
   "cell_type": "markdown",
   "id": "437d8cd1",
   "metadata": {},
   "source": [
    "Here, we conclude that using `TD-IDF` is slightly better that using `CountVectorizer` while performing our feature extraction."
   ]
  }
 ],
 "metadata": {
  "kernelspec": {
   "display_name": "Python 3 (ipykernel)",
   "language": "python",
   "name": "python3"
  },
  "language_info": {
   "codemirror_mode": {
    "name": "ipython",
    "version": 3
   },
   "file_extension": ".py",
   "mimetype": "text/x-python",
   "name": "python",
   "nbconvert_exporter": "python",
   "pygments_lexer": "ipython3",
   "version": "3.11.4"
  }
 },
 "nbformat": 4,
 "nbformat_minor": 5
}
